{
 "cells": [
  {
   "cell_type": "code",
   "execution_count": 33,
   "outputs": [
    {
     "name": "stdout",
     "output_type": "stream",
     "text": [
      "False\n"
     ]
    }
   ],
   "source": [
    "print(bool([ ]))"
   ],
   "metadata": {
    "collapsed": false,
    "ExecuteTime": {
     "start_time": "2023-04-13T14:45:18.909430Z",
     "end_time": "2023-04-13T14:45:18.932457Z"
    }
   }
  },
  {
   "cell_type": "code",
   "execution_count": 4,
   "outputs": [
    {
     "name": "stdout",
     "output_type": "stream",
     "text": [
      "i < 2\n"
     ]
    }
   ],
   "source": [
    "i = 1\n",
    "\n",
    "if i < 2:\n",
    "    print('i < 2')\n",
    "elif i < 3:\n",
    "    print('i < 3')\n",
    "else:\n",
    "    print('i >= 3')\n"
   ],
   "metadata": {
    "collapsed": false,
    "ExecuteTime": {
     "start_time": "2023-04-13T20:19:05.929217Z",
     "end_time": "2023-04-13T20:19:05.976543Z"
    }
   }
  },
  {
   "cell_type": "code",
   "execution_count": 18,
   "outputs": [
    {
     "name": "stdout",
     "output_type": "stream",
     "text": [
      "597:cough_2pwjhp3WBrbv_090135659594-16.0K-VAD-2.jpg\n",
      "2795:cough_Kz8DpcdYsQ_1609348107727-16.0K-VAD-1.jpg\n",
      "2932:cough_aHRlbwLJMM_1599478715248-16.0K-VAD-0.jpg\n",
      "3289:cough_dwFDO6hfj1oG_190944702042-16.0K-VAD-0.jpg\n",
      "4151:cough_l3aDniB0Xh_1605597253777-16.0K-VAD-1.jpg\n",
      "origin_path: F:\\Database\\分数据集绘制谱图\\整合\\2s频谱图\\chirplet\\negative\n",
      "448:3be5af36-9e52-465a-81a6-da1c60d350f5-16.0K-VAD-4.jpg\n",
      "553:4f6c6fa4-e708-4c9a-ac8a-7137a4a60093-16.0K-VAD-1.jpg\n",
      "1028:8d33620a-f041-4c6c-b55d-78c1ac9eb8e5-16.0K-VAD-1.jpg\n",
      "4003:cough_knyS04ihldYF_130003810432-16.0K-VAD-2.jpg\n",
      "origin_path: F:\\Database\\分数据集绘制谱图\\整合\\2s频谱图\\chirplet\\positive\n",
      "597:cough_2pwjhp3WBrbv_090135659594-16.0K-VAD-2.jpg\n",
      "2795:cough_Kz8DpcdYsQ_1609348107727-16.0K-VAD-1.jpg\n",
      "2932:cough_aHRlbwLJMM_1599478715248-16.0K-VAD-0.jpg\n",
      "3289:cough_dwFDO6hfj1oG_190944702042-16.0K-VAD-0.jpg\n",
      "4151:cough_l3aDniB0Xh_1605597253777-16.0K-VAD-1.jpg\n",
      "origin_path: F:\\Database\\分数据集绘制谱图\\整合\\2s频谱图\\logMel\\negative\n",
      "448:3be5af36-9e52-465a-81a6-da1c60d350f5-16.0K-VAD-4.jpg\n",
      "553:4f6c6fa4-e708-4c9a-ac8a-7137a4a60093-16.0K-VAD-1.jpg\n",
      "1028:8d33620a-f041-4c6c-b55d-78c1ac9eb8e5-16.0K-VAD-1.jpg\n",
      "4003:cough_knyS04ihldYF_130003810432-16.0K-VAD-2.jpg\n",
      "origin_path: F:\\Database\\分数据集绘制谱图\\整合\\2s频谱图\\logMel\\positive\n",
      "597:cough_2pwjhp3WBrbv_090135659594-16.0K-VAD-2.jpg\n",
      "2795:cough_Kz8DpcdYsQ_1609348107727-16.0K-VAD-1.jpg\n",
      "2932:cough_aHRlbwLJMM_1599478715248-16.0K-VAD-0.jpg\n",
      "3289:cough_dwFDO6hfj1oG_190944702042-16.0K-VAD-0.jpg\n",
      "4151:cough_l3aDniB0Xh_1605597253777-16.0K-VAD-1.jpg\n",
      "origin_path: F:\\Database\\分数据集绘制谱图\\整合\\2s频谱图\\MFCC\\negative\n",
      "448:3be5af36-9e52-465a-81a6-da1c60d350f5-16.0K-VAD-4.jpg\n",
      "553:4f6c6fa4-e708-4c9a-ac8a-7137a4a60093-16.0K-VAD-1.jpg\n",
      "1028:8d33620a-f041-4c6c-b55d-78c1ac9eb8e5-16.0K-VAD-1.jpg\n",
      "4003:cough_knyS04ihldYF_130003810432-16.0K-VAD-2.jpg\n",
      "origin_path: F:\\Database\\分数据集绘制谱图\\整合\\2s频谱图\\MFCC\\positive\n",
      "597:cough_2pwjhp3WBrbv_090135659594-16.0K-VAD-2.jpg\n",
      "2795:cough_Kz8DpcdYsQ_1609348107727-16.0K-VAD-1.jpg\n",
      "2932:cough_aHRlbwLJMM_1599478715248-16.0K-VAD-0.jpg\n",
      "3289:cough_dwFDO6hfj1oG_190944702042-16.0K-VAD-0.jpg\n",
      "4151:cough_l3aDniB0Xh_1605597253777-16.0K-VAD-1.jpg\n",
      "origin_path: F:\\Database\\分数据集绘制谱图\\整合\\2s频谱图\\TFDF\\negative\n",
      "448:3be5af36-9e52-465a-81a6-da1c60d350f5-16.0K-VAD-4.jpg\n",
      "553:4f6c6fa4-e708-4c9a-ac8a-7137a4a60093-16.0K-VAD-1.jpg\n",
      "1028:8d33620a-f041-4c6c-b55d-78c1ac9eb8e5-16.0K-VAD-1.jpg\n",
      "4003:cough_knyS04ihldYF_130003810432-16.0K-VAD-2.jpg\n",
      "origin_path: F:\\Database\\分数据集绘制谱图\\整合\\2s频谱图\\TFDF\\positive\n"
     ]
    }
   ],
   "source": [
    "import os\n",
    "import random\n",
    "import shutil\n",
    "from tqdm import tqdm\n",
    "\n",
    "def random_extract_files(src_folder, dst_folder1, ratio, dst_folder2=None):\n",
    "    \"\"\"\n",
    "    将源文件夹下的文件按比例随机提取到目标文件夹1中，剩余文件提取到目标文件夹2中\n",
    "    :param src_folder: 源文件夹路径\n",
    "    :param dst_folder1: 目标文件夹1的路径\n",
    "    :param ratio: 提取到目标文件夹1中的文件比例，范围为0到1之间的小数\n",
    "    :param dst_folder2: 目标文件夹2的路径，可选，默认为None，即不对剩余部分文件进行操作\n",
    "    \"\"\"\n",
    "    # 检查并创建目标文件夹1\n",
    "    os.makedirs(dst_folder1, exist_ok=True)\n",
    "    os.makedirs(dst_folder2, exist_ok=True)\n",
    "\n",
    "    # 遍历源文件夹下的所有文件\n",
    "    for src_root, src_dirs, src_files in os.walk(src_folder):\n",
    "        # 如果当前文件夹为空，则跳过该文件夹\n",
    "        if not src_files:\n",
    "            continue\n",
    "\n",
    "        # 计算要提取到目标文件夹1中的文件数目\n",
    "        num_files = len(src_files)\n",
    "        num_extract1 = int(num_files * ratio)\n",
    "\n",
    "        # 遍历源文件夹下的所有文件\n",
    "        src_files = sorted(os.listdir(src_folder))\n",
    "        src_list = list(range(len(src_files)))\n",
    "        random.seed(0)\n",
    "        random.shuffle(src_list)\n",
    "        extract_list = src_list[:num_extract1]\n",
    "\n",
    "        # 将一部分文件提取到目标文件夹1中，剩余文件提取到目标文件夹2中（如果有传入dst_folder2的话）\n",
    "        # for i, file in tqdm(enumerate(src_files), total=len(src_files), file=sys.stdout, ncols=80, colour='yellow'):\n",
    "        for i, file in enumerate(src_files):\n",
    "            src_file = os.path.join(src_root, file)\n",
    "            # tqdm.write(src_file)\n",
    "            if i in extract_list:\n",
    "                dst_file = os.path.join(dst_folder1, file)\n",
    "                tqdm.write('{}:{}'.format(i, os.path.relpath(src_file, src_folder)))\n",
    "            elif dst_folder2 is not None:\n",
    "                dst_file = os.path.join(dst_folder2, file)\n",
    "            else:\n",
    "                continue\n",
    "            # shutil.copy(src_file, dst_file)\n",
    "\n",
    "src_folder = r'F:\\Database\\分数据集绘制谱图\\整合\\2s频谱图'\n",
    "dst_folder = r'F:\\Database\\分数据集绘制谱图\\整合\\测试集&训练集\\测试集'\n",
    "dst_folder2 = r'F:\\Database\\分数据集绘制谱图\\整合\\测试集&训练集\\训练集'\n",
    "\n",
    "for root, dirs, files in os.walk(src_folder):\n",
    "    if not dirs and files:  # 如果当前文件夹不存在子文件夹，但存在文件\n",
    "        origin_path = root\n",
    "        new_path = os.path.join(dst_folder, os.path.relpath(root, src_folder))\n",
    "        new_path2 = os.path.join(dst_folder2, os.path.relpath(root, src_folder))\n",
    "        random_extract_files(origin_path, new_path, 0.001, new_path2)\n",
    "        print(\"origin_path: {}\".format(origin_path))"
   ],
   "metadata": {
    "collapsed": false,
    "ExecuteTime": {
     "start_time": "2023-04-13T20:27:54.570237Z",
     "end_time": "2023-04-13T20:27:54.989872Z"
    }
   }
  },
  {
   "cell_type": "code",
   "execution_count": 39,
   "outputs": [
    {
     "name": "stdout",
     "output_type": "stream",
     "text": [
      "chirplet\\negative\n",
      "F:\\Database\\分数据集绘制谱图\\整合\\2s频谱图合集\\chirplet\\negative\n",
      "F:\\Database\\分数据集绘制谱图\\整合\\2s频谱图合集\\训练集&测试集\\测试集\\chirplet\\negative\n",
      "F:\\Database\\分数据集绘制谱图\\整合\\2s频谱图合集\\训练集&测试集\\训练集\\chirplet\\negative\n",
      "chirplet\\positive\n",
      "F:\\Database\\分数据集绘制谱图\\整合\\2s频谱图合集\\chirplet\\positive\n",
      "F:\\Database\\分数据集绘制谱图\\整合\\2s频谱图合集\\训练集&测试集\\测试集\\chirplet\\positive\n",
      "F:\\Database\\分数据集绘制谱图\\整合\\2s频谱图合集\\训练集&测试集\\训练集\\chirplet\\positive\n",
      "logMel\\negative\n",
      "F:\\Database\\分数据集绘制谱图\\整合\\2s频谱图合集\\logMel\\negative\n",
      "F:\\Database\\分数据集绘制谱图\\整合\\2s频谱图合集\\训练集&测试集\\测试集\\logMel\\negative\n",
      "F:\\Database\\分数据集绘制谱图\\整合\\2s频谱图合集\\训练集&测试集\\训练集\\logMel\\negative\n",
      "logMel\\positive\n",
      "F:\\Database\\分数据集绘制谱图\\整合\\2s频谱图合集\\logMel\\positive\n",
      "F:\\Database\\分数据集绘制谱图\\整合\\2s频谱图合集\\训练集&测试集\\测试集\\logMel\\positive\n",
      "F:\\Database\\分数据集绘制谱图\\整合\\2s频谱图合集\\训练集&测试集\\训练集\\logMel\\positive\n",
      "MFCC\\negative\n",
      "F:\\Database\\分数据集绘制谱图\\整合\\2s频谱图合集\\MFCC\\negative\n",
      "F:\\Database\\分数据集绘制谱图\\整合\\2s频谱图合集\\训练集&测试集\\测试集\\MFCC\\negative\n",
      "F:\\Database\\分数据集绘制谱图\\整合\\2s频谱图合集\\训练集&测试集\\训练集\\MFCC\\negative\n",
      "MFCC\\positive\n",
      "F:\\Database\\分数据集绘制谱图\\整合\\2s频谱图合集\\MFCC\\positive\n",
      "F:\\Database\\分数据集绘制谱图\\整合\\2s频谱图合集\\训练集&测试集\\测试集\\MFCC\\positive\n",
      "F:\\Database\\分数据集绘制谱图\\整合\\2s频谱图合集\\训练集&测试集\\训练集\\MFCC\\positive\n",
      "TFDF\\negative\n",
      "F:\\Database\\分数据集绘制谱图\\整合\\2s频谱图合集\\TFDF\\negative\n",
      "F:\\Database\\分数据集绘制谱图\\整合\\2s频谱图合集\\训练集&测试集\\测试集\\TFDF\\negative\n",
      "F:\\Database\\分数据集绘制谱图\\整合\\2s频谱图合集\\训练集&测试集\\训练集\\TFDF\\negative\n",
      "TFDF\\positive\n",
      "F:\\Database\\分数据集绘制谱图\\整合\\2s频谱图合集\\TFDF\\positive\n",
      "F:\\Database\\分数据集绘制谱图\\整合\\2s频谱图合集\\训练集&测试集\\测试集\\TFDF\\positive\n",
      "F:\\Database\\分数据集绘制谱图\\整合\\2s频谱图合集\\训练集&测试集\\训练集\\TFDF\\positive\n"
     ]
    }
   ],
   "source": [
    "import os\n",
    "import shutil\n",
    "\n",
    "# 定义源文件夹和目标文件夹的路径\n",
    "src_folder = r'F:\\Database\\分数据集绘制谱图\\整合\\2s频谱图合集'\n",
    "dst_folder = r'F:\\Database\\分数据集绘制谱图\\整合\\2s频谱图合集\\训练集&测试集\\测试集'\n",
    "dst_folder2 = r'F:\\Database\\分数据集绘制谱图\\整合\\2s频谱图合集\\训练集&测试集\\训练集'\n",
    "\n",
    "# 遍历源文件夹下的所有文件和子文件夹\n",
    "for root, dirs, files in os.walk(src_folder):\n",
    "    if not dirs and files:\n",
    "        print(os.path.relpath(root, src_folder))\n",
    "        origin_path = os.path.join(root)\n",
    "        new_path = os.path.join(dst_folder, os.path.relpath(root, src_folder))\n",
    "        new_path2 = os.path.join(dst_folder2, os.path.relpath(root, src_folder))\n",
    "        print(origin_path)\n",
    "        print(new_path)\n",
    "        print(new_path2)\n",
    "    # # 构建当前文件夹在目标文件夹中的路径\n",
    "    # dst_dir = os.path.join(dst_folder, os.path.relpath(root, src_folder))\n",
    "    # # 创建当前文件夹在目标文件夹中的路径\n",
    "    # os.makedirs(dst_dir, exist_ok=True)\n",
    "    # # 遍历当前文件夹下的所有文件并移动到目标文件夹中\n",
    "    # for file in files:\n",
    "    #     src_file = os.path.join(root, file)\n",
    "    #     dst_file = os.path.join(dst_dir, file)\n",
    "    #     shutil.move(src_file, dst_file)"
   ],
   "metadata": {
    "collapsed": false,
    "ExecuteTime": {
     "start_time": "2023-04-13T19:07:38.781946Z",
     "end_time": "2023-04-13T19:07:38.872580Z"
    }
   }
  },
  {
   "cell_type": "code",
   "execution_count": 1,
   "outputs": [
    {
     "name": "stderr",
     "output_type": "stream",
     "text": [
      "100%|██████████| 4923/4923 [00:27<00:00, 181.83it/s]"
     ]
    },
    {
     "name": "stdout",
     "output_type": "stream",
     "text": [
      "0\n"
     ]
    },
    {
     "name": "stderr",
     "output_type": "stream",
     "text": [
      "\n"
     ]
    }
   ],
   "source": [
    "import os\n",
    "from tqdm import tqdm\n",
    "\n",
    "folder_path = r'F:\\Database\\Audios\\整合\\positive\\vad\\new'\n",
    "check_progress = True\n",
    "path_list = []\n",
    "for file in tqdm(os.listdir(folder_path)):\n",
    "    if file.endswith('wav'):\n",
    "        file_path = os.path.join(folder_path, file)\n",
    "        path_list.append(file_path)\n",
    "        if check_progress:\n",
    "            new_path = file[:-4] + '.jpg'\n",
    "            if new_path in os.listdir(os.path.join(folder_path, 'MFCC')):\n",
    "                path_list.remove(file_path)\n",
    "print(len(path_list))"
   ],
   "metadata": {
    "collapsed": false,
    "ExecuteTime": {
     "start_time": "2023-04-13T09:39:02.042166Z",
     "end_time": "2023-04-13T09:39:29.322232Z"
    }
   }
  },
  {
   "cell_type": "code",
   "execution_count": null,
   "outputs": [],
   "source": [
    "import os\n",
    "from tqdm import tqdm\n",
    "\n",
    "folder_path = r'F:\\Database\\Audios\\整合\\positive\\vad\\new'\n",
    "check_progress = True\n",
    "path_list = []\n",
    "for file in tqdm(os.listdir(folder_path)):\n",
    "    if file.endswith('wav'):\n",
    "        file_path = os.path.join(folder_path, file)\n",
    "        path_list.append(file_path)\n",
    "        if check_progress:\n",
    "            new_path = file[:-4] + '.jpg'\n",
    "            if os.path.exists(os.path.join(folder_path, 'TFDF', new_path)):\n",
    "                tqdm.write(new_path)\n",
    "                path_list.remove(file_path)\n",
    "print(len(path_list))"
   ],
   "metadata": {
    "collapsed": false,
    "ExecuteTime": {
     "start_time": "2023-04-13T09:40:08.461774Z",
     "end_time": "2023-04-13T09:40:09.563983Z"
    }
   }
  },
  {
   "cell_type": "code",
   "execution_count": 8,
   "outputs": [
    {
     "name": "stderr",
     "output_type": "stream",
     "text": [
      "  0%|          | 0/4923 [00:00<?, ?it/s]"
     ]
    },
    {
     "name": "stdout",
     "output_type": "stream",
     "text": [
      "00af1e34-c02b-4f68-a5e5-3100db5e31f7-16.0K-VAD-0.wav\n"
     ]
    },
    {
     "name": "stderr",
     "output_type": "stream",
     "text": [
      "  0%|          | 1/4923 [00:01<1:22:36,  1.01s/it]"
     ]
    },
    {
     "name": "stdout",
     "output_type": "stream",
     "text": [
      "00af1e34-c02b-4f68-a5e5-3100db5e31f7-16.0K-VAD-1.wav\n"
     ]
    },
    {
     "name": "stderr",
     "output_type": "stream",
     "text": [
      "  0%|          | 2/4923 [00:02<1:22:49,  1.01s/it]"
     ]
    },
    {
     "name": "stdout",
     "output_type": "stream",
     "text": [
      "01424527-9c3b-4b6e-96f1-9eea3150819b-16.0K-VAD-0.wav\n"
     ]
    },
    {
     "name": "stderr",
     "output_type": "stream",
     "text": [
      "  0%|          | 3/4923 [00:03<1:22:49,  1.01s/it]"
     ]
    },
    {
     "name": "stdout",
     "output_type": "stream",
     "text": [
      "01424527-9c3b-4b6e-96f1-9eea3150819b-16.0K-VAD-1.wav\n"
     ]
    },
    {
     "name": "stderr",
     "output_type": "stream",
     "text": [
      "  0%|          | 4/4923 [00:04<1:22:41,  1.01s/it]"
     ]
    },
    {
     "name": "stdout",
     "output_type": "stream",
     "text": [
      "01424527-9c3b-4b6e-96f1-9eea3150819b-16.0K-VAD-2.wav\n"
     ]
    },
    {
     "name": "stderr",
     "output_type": "stream",
     "text": [
      "  0%|          | 5/4923 [00:05<1:22:47,  1.01s/it]"
     ]
    },
    {
     "name": "stdout",
     "output_type": "stream",
     "text": [
      "01424527-9c3b-4b6e-96f1-9eea3150819b-16.0K-VAD-3.wav\n"
     ]
    },
    {
     "name": "stderr",
     "output_type": "stream",
     "text": [
      "  0%|          | 6/4923 [00:06<1:23:00,  1.01s/it]"
     ]
    },
    {
     "name": "stdout",
     "output_type": "stream",
     "text": [
      "015ec831-e765-44ee-aefc-10dfd95dec78-16.0K-VAD-0.wav\n"
     ]
    },
    {
     "name": "stderr",
     "output_type": "stream",
     "text": [
      "  0%|          | 7/4923 [00:07<1:22:55,  1.01s/it]"
     ]
    },
    {
     "name": "stdout",
     "output_type": "stream",
     "text": [
      "015ec831-e765-44ee-aefc-10dfd95dec78-16.0K-VAD-1.wav\n"
     ]
    },
    {
     "name": "stderr",
     "output_type": "stream",
     "text": [
      "  0%|          | 8/4923 [00:08<1:22:57,  1.01s/it]"
     ]
    },
    {
     "name": "stdout",
     "output_type": "stream",
     "text": [
      "015ec831-e765-44ee-aefc-10dfd95dec78-16.0K-VAD-2.wav\n"
     ]
    },
    {
     "name": "stderr",
     "output_type": "stream",
     "text": [
      "  0%|          | 9/4923 [00:09<1:22:54,  1.01s/it]"
     ]
    },
    {
     "name": "stdout",
     "output_type": "stream",
     "text": [
      "01820f7c-b953-4faf-aa13-978cfda6b08e-16.0K-VAD-0.wav\n"
     ]
    },
    {
     "name": "stderr",
     "output_type": "stream",
     "text": [
      "  0%|          | 10/4923 [00:10<1:22:50,  1.01s/it]"
     ]
    },
    {
     "name": "stdout",
     "output_type": "stream",
     "text": [
      "01820f7c-b953-4faf-aa13-978cfda6b08e-16.0K-VAD-1.wav\n"
     ]
    },
    {
     "name": "stderr",
     "output_type": "stream",
     "text": [
      "  0%|          | 10/4923 [00:11<1:31:03,  1.11s/it]\n"
     ]
    },
    {
     "ename": "KeyboardInterrupt",
     "evalue": "",
     "output_type": "error",
     "traceback": [
      "\u001B[1;31m---------------------------------------------------------------------------\u001B[0m",
      "\u001B[1;31mKeyboardInterrupt\u001B[0m                         Traceback (most recent call last)",
      "\u001B[1;32m~\\AppData\\Local\\Temp/ipykernel_25668/353012841.py\u001B[0m in \u001B[0;36m<module>\u001B[1;34m\u001B[0m\n\u001B[0;32m     11\u001B[0m \u001B[1;32mfor\u001B[0m \u001B[0mbatch\u001B[0m \u001B[1;32min\u001B[0m \u001B[0mtqdm\u001B[0m\u001B[1;33m(\u001B[0m\u001B[0mos\u001B[0m\u001B[1;33m.\u001B[0m\u001B[0mlistdir\u001B[0m\u001B[1;33m(\u001B[0m\u001B[0mfolder_path\u001B[0m\u001B[1;33m)\u001B[0m\u001B[1;33m)\u001B[0m\u001B[1;33m:\u001B[0m\u001B[1;33m\u001B[0m\u001B[1;33m\u001B[0m\u001B[0m\n\u001B[0;32m     12\u001B[0m     \u001B[0mtqdm\u001B[0m\u001B[1;33m.\u001B[0m\u001B[0mwrite\u001B[0m\u001B[1;33m(\u001B[0m\u001B[0mstr\u001B[0m\u001B[1;33m(\u001B[0m\u001B[0mbatch\u001B[0m\u001B[1;33m)\u001B[0m\u001B[1;33m)\u001B[0m\u001B[1;33m\u001B[0m\u001B[1;33m\u001B[0m\u001B[0m\n\u001B[1;32m---> 13\u001B[1;33m     \u001B[0mtime\u001B[0m\u001B[1;33m.\u001B[0m\u001B[0msleep\u001B[0m\u001B[1;33m(\u001B[0m\u001B[1;36m1\u001B[0m\u001B[1;33m)\u001B[0m\u001B[1;33m\u001B[0m\u001B[1;33m\u001B[0m\u001B[0m\n\u001B[0m\u001B[0;32m     14\u001B[0m \u001B[1;33m\u001B[0m\u001B[0m\n\u001B[0;32m     15\u001B[0m \u001B[1;31m# folder_path = r'F:\\Database\\Audios\\整合\\positive\\vad\\new'\u001B[0m\u001B[1;33m\u001B[0m\u001B[1;33m\u001B[0m\u001B[0m\n",
      "\u001B[1;31mKeyboardInterrupt\u001B[0m: "
     ]
    }
   ],
   "source": [
    "import sys\n",
    "import time\n",
    "\n",
    "from tqdm import tqdm\n",
    "\n",
    "folder_path = r'F:\\Database\\Audios\\整合\\positive\\vad\\new'\n",
    "# for batch in tqdm(range(100), total=100, position=0, file=sys.stdout, desc=\"desc\"):\n",
    "#     tqdm.write(str(batch))\n",
    "#     time.sleep(1)\n",
    "\n",
    "for batch in tqdm(os.listdir(folder_path), file=sys.stdout):\n",
    "    tqdm.write(str(batch))\n",
    "    time.sleep(1)\n",
    "\n",
    "# folder_path = r'F:\\Database\\Audios\\整合\\positive\\vad\\new'\n",
    "# check_progress = True\n",
    "# path_list = []\n",
    "# for file in tqdm(os.listdir(folder_path)):\n",
    "#     if file.endswith('wav'):\n",
    "#         print(file)"
   ],
   "metadata": {
    "collapsed": false,
    "ExecuteTime": {
     "start_time": "2023-04-13T12:10:22.241278Z",
     "end_time": "2023-04-13T12:10:42.445268Z"
    }
   }
  },
  {
   "cell_type": "code",
   "execution_count": 4,
   "outputs": [
    {
     "name": "stderr",
     "output_type": "stream",
     "text": [
      "  0%|          | 0/10 [00:00<?, ?it/s]"
     ]
    },
    {
     "name": "stdout",
     "output_type": "stream",
     "text": [
      "Processing item 0\n"
     ]
    },
    {
     "name": "stderr",
     "output_type": "stream",
     "text": [
      " 10%|█         | 1/10 [00:00<00:04,  1.96it/s]"
     ]
    },
    {
     "name": "stdout",
     "output_type": "stream",
     "text": [
      "Processing item 1\n"
     ]
    },
    {
     "name": "stderr",
     "output_type": "stream",
     "text": [
      " 20%|██        | 2/10 [00:01<00:04,  1.94it/s]"
     ]
    },
    {
     "name": "stdout",
     "output_type": "stream",
     "text": [
      "Processing item 2\n"
     ]
    },
    {
     "name": "stderr",
     "output_type": "stream",
     "text": [
      " 30%|███       | 3/10 [00:01<00:03,  1.95it/s]"
     ]
    },
    {
     "name": "stdout",
     "output_type": "stream",
     "text": [
      "Processing item 3\n"
     ]
    },
    {
     "name": "stderr",
     "output_type": "stream",
     "text": [
      " 40%|████      | 4/10 [00:02<00:03,  1.95it/s]"
     ]
    },
    {
     "name": "stdout",
     "output_type": "stream",
     "text": [
      "Processing item 4\n"
     ]
    },
    {
     "name": "stderr",
     "output_type": "stream",
     "text": [
      " 50%|█████     | 5/10 [00:02<00:02,  1.93it/s]"
     ]
    },
    {
     "name": "stdout",
     "output_type": "stream",
     "text": [
      "Processing item 5\n"
     ]
    },
    {
     "name": "stderr",
     "output_type": "stream",
     "text": [
      " 60%|██████    | 6/10 [00:03<00:02,  1.94it/s]"
     ]
    },
    {
     "name": "stdout",
     "output_type": "stream",
     "text": [
      "Processing item 6\n"
     ]
    },
    {
     "name": "stderr",
     "output_type": "stream",
     "text": [
      " 70%|███████   | 7/10 [00:03<00:01,  1.95it/s]"
     ]
    },
    {
     "name": "stdout",
     "output_type": "stream",
     "text": [
      "Processing item 7\n"
     ]
    },
    {
     "name": "stderr",
     "output_type": "stream",
     "text": [
      " 80%|████████  | 8/10 [00:04<00:01,  1.95it/s]"
     ]
    },
    {
     "name": "stdout",
     "output_type": "stream",
     "text": [
      "Processing item 8\n"
     ]
    },
    {
     "name": "stderr",
     "output_type": "stream",
     "text": [
      " 90%|█████████ | 9/10 [00:04<00:00,  1.95it/s]"
     ]
    },
    {
     "name": "stdout",
     "output_type": "stream",
     "text": [
      "Processing item 9\n"
     ]
    },
    {
     "name": "stderr",
     "output_type": "stream",
     "text": [
      "100%|██████████| 10/10 [00:05<00:00,  1.95it/s]\n"
     ]
    }
   ],
   "source": [
    "from tqdm import tqdm\n",
    "import time\n",
    "\n",
    "for i in tqdm(range(10)):\n",
    "    tqdm.write(\"Processing item {}\".format(i))\n",
    "    time.sleep(0.5)"
   ],
   "metadata": {
    "collapsed": false,
    "ExecuteTime": {
     "start_time": "2023-04-13T12:15:09.539441Z",
     "end_time": "2023-04-13T12:15:14.696460Z"
    }
   }
  },
  {
   "cell_type": "code",
   "execution_count": 12,
   "outputs": [
    {
     "name": "stderr",
     "output_type": "stream",
     "text": [
      "100%|██████████| 15277/15277 [00:55<00:00, 275.58it/s]\n"
     ]
    }
   ],
   "source": [
    "import os\n",
    "import shutil\n",
    "from tqdm import tqdm\n",
    "\n",
    "origin_folder = r'F:\\Database\\Audios\\整合\\negative\\vad\\new\\all'\n",
    "new_folder = r'F:\\Database\\Audios\\整合\\negative\\vad\\new'\n",
    "for file in tqdm(os.listdir(origin_folder)):\n",
    "    if file.endswith('wav'):\n",
    "        file_path = os.path.join(origin_folder, file)\n",
    "        new_path = os.path.join(new_folder, file)\n",
    "        shutil.copy(file_path, new_path)"
   ],
   "metadata": {
    "collapsed": false,
    "ExecuteTime": {
     "start_time": "2023-04-12T21:01:10.934314Z",
     "end_time": "2023-04-12T21:02:06.407759Z"
    }
   }
  },
  {
   "cell_type": "code",
   "execution_count": null,
   "outputs": [],
   "source": [
    "import pandas as pd\n",
    "import os\n",
    "import shutil\n",
    "\n",
    "\n",
    "def create_dir_not_exist(path):\n",
    "    if not os.path.exists(path):\n",
    "        os.mkdir(path)\n",
    "\n",
    "\n",
    "dir = os.path.abspath(\"E:\\DICOVA_Track1\")\n",
    "csv_path = os.path.join(dir, 'metadata.csv')\n",
    "\n",
    "print(dir)\n",
    "print(csv_path)\n",
    "# with open(csv_path, 'r', encoding='UTF-8') as f:\n",
    "#     csv = pd.read_csv(f)\n"
   ],
   "metadata": {
    "collapsed": false
   }
  },
  {
   "cell_type": "code",
   "execution_count": null,
   "outputs": [],
   "source": [
    "import os\n",
    "import shutil\n",
    "\n",
    "spec_list = ['chirplet', 'MFCC', 'logmelspec', 'TFDF']\n",
    "classify_list = ['negative', 'positive']\n",
    "\n",
    "\n",
    "def create_dir_not_exist(path):\n",
    "    if not os.path.exists(path):\n",
    "        os.mkdir(path)\n",
    "\n",
    "\n",
    "def move_spec(folder_path, spec_folder):\n",
    "    \"\"\"\n",
    "    将folder_path下的谱图文件按谱图种类移动到spec_folder下\n",
    "    :param folder_path: 要移动的文件夹总目录\n",
    "    :param spec_folder: 存放谱图的文件夹\n",
    "    \"\"\"\n",
    "    create_dir_not_exist(spec_folder)\n",
    "    for spec in spec_list:\n",
    "        spec_path = os.path.join(spec_folder, spec)\n",
    "        create_dir_not_exist(spec_path)\n",
    "        for classify in classify_list:\n",
    "            classify_path = os.path.join(spec_path, classify)\n",
    "            create_dir_not_exist(classify_path)\n",
    "            origin_folder = os.path.join(folder_path, classify, 'vad', 'new', spec)\n",
    "            new_folder = classify_path\n",
    "            shutil.copytree(origin_folder, new_folder)\n",
    "            print(origin_folder)\n",
    "\n",
    "\n",
    "folder_path = r'F:\\Database\\Audios\\自建数据集'\n",
    "spec_folder = r\"F:\\Database\\Audios\\自建数据集\\spec\"\n",
    "move_spec(folder_path, spec_folder)"
   ],
   "metadata": {
    "collapsed": false
   }
  },
  {
   "cell_type": "code",
   "execution_count": null,
   "outputs": [],
   "source": [
    "import mimetypes\n",
    "filename = r\"F:\\Database\\Audios\\自建数据集\\202065794_附件_3\\序号11_您的咳嗽录音文件（5秒左_20221218_210421.AMR\"\n",
    "print(mimetypes.guess_type(filename))"
   ],
   "metadata": {
    "collapsed": false,
    "ExecuteTime": {
     "start_time": "2023-04-08T12:20:47.671883Z",
     "end_time": "2023-04-08T12:20:47.681886Z"
    }
   }
  },
  {
   "cell_type": "code",
   "execution_count": null,
   "outputs": [],
   "source": [
    "import pandas as pd\n",
    "import os\n",
    "import shutil\n",
    "\n",
    "\n",
    "def create_dir_not_exist(path):\n",
    "    if not os.path.exists(path):\n",
    "        os.mkdir(path)\n",
    "\n",
    "\n",
    "def extracting_files(list, path):\n",
    "    for i in range(len(list)):\n",
    "        files = os.listdir(dir_files)\n",
    "        for file in files:\n",
    "            if file[:file.rfind(\".\")] == list[i]:\n",
    "                old_name = os.path.join(dir_files, file)\n",
    "                new_name = os.path.join(path, file)\n",
    "                shutil.copyfile(old_name, new_name)\n",
    "    print(\"{}\")\n",
    "\n",
    "\n",
    "dir = os.path.abspath(\"E:\\\\DICOVA_Track1\")\n",
    "dir_files = os.path.join(dir, \"Audio\")\n",
    "csv_path = os.path.join(dir, 'metadata.csv')\n",
    "dir_negative = os.path.join(dir, \"negative\")\n",
    "dir_positive = os.path.join(dir, \"positive\")\n",
    "\n",
    "with open(csv_path, 'r', encoding='UTF-8') as f:\n",
    "    csv = pd.read_csv(f)\n",
    "\n",
    "r_max = csv.shape[0]\n",
    "c_max = csv.shape[1]\n",
    "\n",
    "file_name = csv['File_name'].tolist()  # 提取File_name\n",
    "\n",
    "positive = []\n",
    "negative = []\n",
    "state = csv['Covid_status'].tolist()  # 提取志愿者的新冠状况Covid_status\n",
    "\n",
    "# 按negative和positive分类提取id\n",
    "for r in range(r_max):\n",
    "    pd = state[r]\n",
    "    if pd[:1] == 'p':\n",
    "        positive.append(file_name[r])\n",
    "    if pd[:1] == 'n':\n",
    "        negative.append(file_name[r])\n",
    "\n",
    "\"\"\"\n",
    "提取\n",
    "\"\"\"\n",
    "\n",
    "create_dir_not_exist(dir_negative)\n",
    "create_dir_not_exist(dir_positive)\n",
    "\n",
    "extracting_files(negative, dir_negative)\n",
    "extracting_files(positive, dir_positive)\n"
   ],
   "metadata": {
    "collapsed": false
   }
  },
  {
   "cell_type": "code",
   "execution_count": null,
   "outputs": [],
   "source": [
    "import os\n",
    "import shutil\n",
    "from tqdm import tqdm\n",
    "\n",
    "# 将文件夹下的所有wav后缀的文件移动到另一个文件夹下\n",
    "\n",
    "origin_path = r'F:\\Database\\Audios\\整合\\negative\\vad\\new'\n",
    "new_path = r'F:\\Database\\Audios\\整合\\negative\\vad\\new\\all'\n",
    "for file in tqdm(os.listdir(origin_path)):\n",
    "    if file.endswith('wav'):\n",
    "        origin_file = os.path.join(origin_path,file)\n",
    "        new_file = os.path.join(new_path,file)\n",
    "        shutil.move(origin_file, new_file)"
   ],
   "metadata": {
    "collapsed": false,
    "ExecuteTime": {
     "start_time": "2023-04-12T14:34:31.947637Z",
     "end_time": "2023-04-12T14:35:01.950768Z"
    }
   }
  },
  {
   "cell_type": "code",
   "execution_count": null,
   "outputs": [],
   "source": [
    "def get_variable_name(var, locals = locals()):\n",
    "    for k, v in locals.items():\n",
    "        if v is var:\n",
    "            return k\n",
    "\n",
    "negative = [1,2,3,4,5]\n",
    "print(get_variable_name(negative))"
   ],
   "metadata": {
    "collapsed": false
   }
  },
  {
   "cell_type": "code",
   "execution_count": null,
   "outputs": [],
   "source": [
    "import os\n",
    "dir_path = r\"E:\\DICOVA_Track1\\Track1-classified\\positive\"\n",
    "file_list = os.listdir(dir_path)\n",
    "file_path_list = []\n",
    "for file in file_list:\n",
    "    file_path = os.path.join(dir_path, file)\n",
    "    file_path_list.append(file_path)\n",
    "print(file_path_list)"
   ],
   "metadata": {
    "collapsed": false
   }
  },
  {
   "cell_type": "code",
   "execution_count": null,
   "outputs": [],
   "source": [
    "import os\n",
    "\n",
    "dir_path = r\"E:\\DICOVA_Track1\\Track1-classified\\positive\\new\\usSHBQST_cough-1.wav\"\n",
    "# print(dir_path[dir_path.rfind(\"\\\\\")+1 : -4])4\n",
    "print(dir_path[: dir_path.rfind(\"\\\\\")] + str('\\mel'))\n",
    "mel_folder = dir_path[: dir_path.rfind(\"\\\\\")] + str('\\mel')\n",
    "print(mel_folder + dir_path[dir_path.rfind(\"\\\\\") : dir_path.rfind(\".\")] + str('mel') + str('.jpg'))\n",
    "print(os.path.join(dir_path, 'new'))"
   ],
   "metadata": {
    "collapsed": false
   }
  }
 ],
 "metadata": {
  "kernelspec": {
   "display_name": "Python 3",
   "language": "python",
   "name": "python3"
  },
  "language_info": {
   "codemirror_mode": {
    "name": "ipython",
    "version": 2
   },
   "file_extension": ".py",
   "mimetype": "text/x-python",
   "name": "python",
   "nbconvert_exporter": "python",
   "pygments_lexer": "ipython2",
   "version": "2.7.6"
  }
 },
 "nbformat": 4,
 "nbformat_minor": 0
}
