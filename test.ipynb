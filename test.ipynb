{
 "cells": [
  {
   "cell_type": "code",
   "execution_count": 3,
   "metadata": {
    "collapsed": true,
    "pycharm": {
     "name": "#%%\n"
    }
   },
   "outputs": [
    {
     "name": "stdout",
     "output_type": "stream",
     "text": [
      "E:\\DICOVA_Track1\n",
      "E:\\DICOVA_Track1\\metadata.csv\n"
     ]
    }
   ],
   "source": [
    "import pandas as pd\n",
    "import os\n",
    "import shutil\n",
    "\n",
    "\n",
    "def create_dir_not_exist(path):\n",
    "    if not os.path.exists(path):\n",
    "        os.mkdir(path)\n",
    "\n",
    "\n",
    "dir = os.path.abspath(\"E:\\DICOVA_Track1\")\n",
    "csv_path = os.path.join(dir, 'metadata.csv')\n",
    "\n",
    "print(dir)\n",
    "print(csv_path)\n",
    "# with open(csv_path, 'r', encoding='UTF-8') as f:\n",
    "#     csv = pd.read_csv(f)\n"
   ]
  },
  {
   "cell_type": "code",
   "execution_count": 4,
   "outputs": [
    {
     "name": "stdout",
     "output_type": "stream",
     "text": [
      "['aADACozj_cough.wav', 'AahjnFof_cough.wav', 'AamNArxa_cough.wav', 'aBXnKRBt_cough.wav', 'ABZpUgKz_cough.wav', 'ACKYAaOu_cough.wav', 'aDvwbjBW_cough.wav', 'AEthVqjZ_cough.wav', 'AfHKswLD_cough.wav', 'AFuFLsFC_cough.wav', 'AHdYXdSA_cough.wav', 'AHGDPacO_cough.wav', 'AHIDJJfo_cough.wav', 'AhkTHlAt_cough.wav', 'AhPVUYPm_cough.wav', 'AHvqxmTD_cough.wav', 'AJurtDLl_cough.wav', 'akHRvJqB_cough.wav', 'AMmVkqHQ_cough.wav', 'ANthWVrp_cough.wav', 'aOKoUBJO_cough.wav', 'aOQmLItZ_cough.wav', 'ApfHNsIX_cough.wav', 'APxrfXFq_cough.wav', 'AtACyGlV_cough.wav', 'aUKvSleS_cough.wav', 'auUakUKv_cough.wav', 'aVjMMIvu_cough.wav', 'AvXwUddK_cough.wav', 'AwRwAlzZ_cough.wav', 'AYWmtDJO_cough.wav', 'bAfnWEPG_cough.wav', 'BAuNNPnY_cough.wav', 'BbbqcsYR_cough.wav', 'beWHfszO_cough.wav', 'bfCQQyFR_cough.wav', 'BfKUapRu_cough.wav', 'BfmPzhim_cough.wav', 'BFPruVfc_cough.wav', 'bgOaOgxU_cough.wav', 'BHrwKWdF_cough.wav', 'BIMVeQzB_cough.wav', 'BIynSpMB_cough.wav', 'bJiDhRtr_cough.wav', 'BJtypCcm_cough.wav', 'BkCIGKFx_cough.wav', 'bLoPkSgQ_cough.wav', 'bMBCKIbu_cough.wav', 'BMbIFgPa_cough.wav', 'BoMMgcGi_cough.wav', 'BRdoMJMm_cough.wav', 'bRWGFBjh_cough.wav', 'BrysHzaT_cough.wav', 'BsbnEMPc_cough.wav', 'BsmmRRYG_cough.wav', 'BuampscY_cough.wav', 'BUdSAzGc_cough.wav', 'bvQCsEXY_cough.wav', 'BWvxPOyW_cough.wav', 'bXYIqWfN_cough.wav', 'bXyZWJuP_cough.wav', 'BYUmnACy_cough.wav', 'bzDtyIBe_cough.wav', 'cBySOpIM_cough.wav', 'cccRQLsd_cough.wav', 'CcOAENdR_cough.wav', 'CCOKkQbN_cough.wav', 'cCTGtzrb_cough.wav', 'CduuyNnX_cough.wav', 'CfrQxSCu_cough.wav', 'cGbSTkWK_cough.wav', 'CgdCJMhN_cough.wav', 'CGPIoXNx_cough.wav', 'CHekRfYK_cough.wav', 'chGohOak_cough.wav', 'ChNuGKfw_cough.wav', 'chOLvvsA_cough.wav', 'chTNMokP_cough.wav', 'cjfIjhyi_cough.wav', 'cJnFalrh_cough.wav', 'cMgBQkuX_cough.wav', 'cNMOJqng_cough.wav', 'COLtegjU_cough.wav', 'coMUdcRR_cough.wav', 'covyxxbC_cough.wav', 'coYnRBKq_cough.wav', 'cPOKVvdA_cough.wav', 'CqCjpNCH_cough.wav', 'CQXOywmX_cough.wav', 'CrIZJrAb_cough.wav', 'cRJUHabg_cough.wav', 'crKJKKlX_cough.wav', 'CsoDcISU_cough.wav', 'CVPTxLsr_cough.wav', 'CxxiEgwG_cough.wav', 'CYFhteFO_cough.wav', 'cYOEnInw_cough.wav', 'CYPbxJWA_cough.wav', 'CzgFePeA_cough.wav', 'CZnikJNW_cough.wav', 'CzXcnnae_cough.wav', 'dAlFPhsp_cough.wav', 'dartXVFJ_cough.wav', 'davHZqCa_cough.wav', 'dbyaRXFg_cough.wav', 'dCtDhMHk_cough.wav', 'dDBXpmBl_cough.wav', 'DDdWaoiR_cough.wav', 'DdORgIiV_cough.wav', 'DdvWRFdS_cough.wav', 'dDwKtqWC_cough.wav', 'dDzDfKJP_cough.wav', 'dFRcHJhF_cough.wav', 'DGTYXHLa_cough.wav', 'DhazUeja_cough.wav', 'DhBQVRDQ_cough.wav', 'DhdzDVXD_cough.wav', 'DiJtAeJU_cough.wav', 'diRTRMug_cough.wav', 'djaDYUDQ_cough.wav', 'dJYNNdzu_cough.wav', 'DKGjGUij_cough.wav', 'dKHLPKyy_cough.wav', 'dlpsSQjM_cough.wav', 'dlWJljDj_cough.wav', 'dLwOQwoK_cough.wav', 'dlyXvZEO_cough.wav', 'DmauIMKG_cough.wav', 'dMCnrshT_cough.wav', 'DMjHtcQk_cough.wav', 'DmslAEJg_cough.wav', 'DNGNOspf_cough.wav', 'DNJYUqMz_cough.wav', 'DOmCORLp_cough.wav', 'dpITIaDY_cough.wav', 'dPUWmOkU_cough.wav', 'DQPwZuOn_cough.wav', 'DRcWUEuo_cough.wav', 'DSgligMM_cough.wav', 'dSNzzyrg_cough.wav', 'dTDGuwCS_cough.wav', 'duiSnlug_cough.wav', 'DVvRWxAW_cough.wav', 'dWdLnIQt_cough.wav', 'dWOdAkOD_cough.wav', 'DWyffrad_cough.wav', 'DxcSzPmw_cough.wav', 'dxQqCnAW_cough.wav', 'dywUNhdL_cough.wav', 'dyycrqJU_cough.wav', 'DZgRVAXC_cough.wav', 'dZOQObIy_cough.wav', 'eAHwANhF_cough.wav', 'EaOSLfpf_cough.wav', 'EbxJzcPn_cough.wav', 'EBZavziR_cough.wav', 'eCIINxrV_cough.wav', 'eCsqvurK_cough.wav', 'EcUsEkAl_cough.wav', 'eeRkWQsH_cough.wav', 'EesrGEQK_cough.wav', 'EFZUPSuS_cough.wav', 'egcOQIkF_cough.wav', 'EGwkBuIT_cough.wav', 'eGYFrsuJ_cough.wav', 'EjRdWPtJ_cough.wav', 'eKxBnbRo_cough.wav', 'elvNFVrW_cough.wav', 'EmCBkpem_cough.wav', 'eMmcTBVj_cough.wav', 'EMxfRtFN_cough.wav', 'EObIkekt_cough.wav', 'EoBJGqHI_cough.wav', 'eoxRrtMw_cough.wav', 'EOzrpyLb_cough.wav', 'ePpysCaD_cough.wav', 'EQQdToXW_cough.wav', 'eqvhmfRI_cough.wav', 'erpixQvP_cough.wav', 'eRPTfOVK_cough.wav', 'ERVrHxMq_cough.wav', 'eSbEMlDi_cough.wav', 'ESzZWmGt_cough.wav', 'etKQRLfK_cough.wav', 'EVdTfrVp_cough.wav', 'evxTwqal_cough.wav', 'EXTnSXpA_cough.wav', 'eYzgYdYl_cough.wav', 'eYzZKogA_cough.wav', 'fACsfnXM_cough.wav', 'FcWxqeAl_cough.wav', 'FDHiAeTE_cough.wav', 'FERJuenV_cough.wav', 'fevXMvOT_cough.wav', 'FeZaWcVO_cough.wav', 'FfwAYAKx_cough.wav', 'FhrJxwYP_cough.wav', 'FIkPFFrj_cough.wav', 'FiMMzrzL_cough.wav', 'fJtaMIsq_cough.wav', 'fJXWyITs_cough.wav', 'fLNxhXbZ_cough.wav', 'FNfTTbzY_cough.wav', 'FnTPcXIN_cough.wav', 'fONdkDVs_cough.wav', 'FouIptoD_cough.wav', 'FPYQlWGG_cough.wav', 'fqibUmcL_cough.wav', 'FqOOFmiR_cough.wav', 'fRvMouNb_cough.wav', 'fSpQDrDC_cough.wav', 'fVlInfdb_cough.wav', 'FWeXsutF_cough.wav', 'fZENJiyQ_cough.wav', 'FZXFpXhV_cough.wav', 'fzzGPSYm_cough.wav', 'GAIpMcsD_cough.wav', 'gaPPlJsV_cough.wav', 'gAqYALTA_cough.wav', 'gbAOHabe_cough.wav', 'gecKcvVC_cough.wav', 'GeTgHGWW_cough.wav', 'gfSAGNiP_cough.wav', 'gGFSpbrN_cough.wav', 'GgsSbAEX_cough.wav', 'GHhjmiuJ_cough.wav', 'GICHgrXJ_cough.wav', 'GimUgPoe_cough.wav', 'GIRsbEyt_cough.wav', 'gjLXOetR_cough.wav', 'gKjRdBDW_cough.wav', 'GlXwoDJV_cough.wav', 'gMcIkIFj_cough.wav', 'Gmpieeia_cough.wav', 'GnZCjsmF_cough.wav', 'GOdNAKMm_cough.wav', 'GOdotVcf_cough.wav', 'goWcEHng_cough.wav', 'GOxJdfVi_cough.wav', 'GoxnxYYn_cough.wav', 'gpWnRpoa_cough.wav', 'GSDMleNk_cough.wav', 'gSFXFdyv_cough.wav', 'gSyDTrEu_cough.wav', 'gtCGtCiP_cough.wav', 'GTqQwmGx_cough.wav', 'gVjkFFrn_cough.wav', 'gVNJPSmk_cough.wav', 'gWIdyGmS_cough.wav', 'GxCkuKkA_cough.wav', 'GxGBAzwK_cough.wav', 'GyfbEMhP_cough.wav', 'GYGASsWy_cough.wav', 'gYHEbtzr_cough.wav', 'GYOpZSmX_cough.wav', 'GzlkLlxX_cough.wav', 'GZTIReTs_cough.wav', 'hAoMwyku_cough.wav', 'HbIBRElB_cough.wav', 'HBqmFqKH_cough.wav', 'hCIDQATj_cough.wav', 'hdFcCXur_cough.wav', 'hFudLElG_cough.wav', 'hFYyUYlK_cough.wav', 'HHGYsqzX_cough.wav', 'hhWAIzlA_cough.wav', 'hhxHlHqa_cough.wav', 'hIavvSRF_cough.wav', 'hjVZbDCp_cough.wav', 'HkhDKvym_cough.wav', 'HkTHkyvR_cough.wav', 'hlbmibKj_cough.wav', 'HLEnSzSL_cough.wav', 'HlWISuNU_cough.wav', 'hnfTDfZa_cough.wav', 'HNkrPsKS_cough.wav', 'hnYxORIJ_cough.wav', 'hoFDYVxy_cough.wav', 'HOMBlBxr_cough.wav', 'hOwrknat_cough.wav', 'HPfgtcwb_cough.wav', 'HPFMyzhn_cough.wav', 'HPLYxJBC_cough.wav', 'hPmlgEcN_cough.wav', 'HQnceIHN_cough.wav', 'hRbPFNRW_cough.wav', 'HrFdvSeN_cough.wav', 'hrlGAWMY_cough.wav', 'hSAGyBqE_cough.wav', 'hTLOsLXc_cough.wav', 'htlzaAUU_cough.wav', 'HtuRbBOO_cough.wav', 'HTxKOkRZ_cough.wav', 'HvfYoWAy_cough.wav', 'HvKmrpzK_cough.wav', 'HVvXSGEd_cough.wav', 'hWGMwnJS_cough.wav', 'hwRrYfYT_cough.wav', 'HWRtYYSn_cough.wav', 'hwttiHfc_cough.wav', 'HxAAalOX_cough.wav', 'hXkcoGDK_cough.wav', 'HXqroOlc_cough.wav', 'hYcauAvx_cough.wav', 'hykCVBNf_cough.wav', 'ibGJFsky_cough.wav', 'IbIqCiSM_cough.wav', 'iCaywRfN_cough.wav', 'IDMhICNt_cough.wav', 'IEqdrBaP_cough.wav', 'IeqstiNe_cough.wav', 'IeRTIrHB_cough.wav', 'IFCuHaww_cough.wav', 'ifdQLhYs_cough.wav', 'ifijbQMh_cough.wav', 'IGhhCSAM_cough.wav', 'igkzbKCv_cough.wav', 'iIaUOWJq_cough.wav', 'iiVeFzGm_cough.wav', 'IjBsydgj_cough.wav', 'IJOkNJfV_cough.wav', 'IjqtYfKq_cough.wav', 'IkmWSZnM_cough.wav', 'ikrSQjNm_cough.wav', 'ImlzzHHk_cough.wav', 'IMVJCwjW_cough.wav', 'ioAQoxfw_cough.wav', 'ipVXtfmK_cough.wav', 'iqfbGPhI_cough.wav', 'iQFfgZAc_cough.wav', 'iqKvPHBY_cough.wav', 'ITvXeGue_cough.wav', 'Iuvxofao_cough.wav', 'iuZICSGP_cough.wav', 'IvekRhoV_cough.wav', 'iVHYeqeO_cough.wav', 'iwHzLybn_cough.wav', 'IyDhFNNp_cough.wav', 'IYjVEmFA_cough.wav', 'iyrQCYYs_cough.wav', 'iyWdhFuN_cough.wav', 'iZTDPMwT_cough.wav', 'IzXaepIB_cough.wav', 'jcoxMvCW_cough.wav', 'jfEkwgtl_cough.wav', 'JgEUgPGO_cough.wav', 'jGLJqfXu_cough.wav', 'jGUXxXiu_cough.wav', 'JGYGEqxF_cough.wav', 'JhKQPaQC_cough.wav', 'JhrKflGq_cough.wav', 'jIOgSBzJ_cough.wav', 'JIoTIdVI_cough.wav', 'jjLcWWfG_cough.wav', 'jJZVWNtY_cough.wav', 'jkaBxvwN_cough.wav', 'JLAmlcZM_cough.wav', 'jLCRDXHs_cough.wav', 'jLkxgZig_cough.wav', 'jLOjstEF_cough.wav', 'JlSdeAao_cough.wav', 'Jlwpjevo_cough.wav', 'jMdKGauX_cough.wav', 'JmrtWJwt_cough.wav', 'jnWUQXAF_cough.wav', 'jOgzEnHi_cough.wav', 'joLBFAsl_cough.wav', 'jpzfuvdD_cough.wav', 'jqMxtoFj_cough.wav', 'JqxUjjst_cough.wav', 'jRHwisEK_cough.wav', 'jRPEOQhb_cough.wav', 'jRySimqI_cough.wav', 'JshcLzrY_cough.wav', 'JtsPzyAV_cough.wav', 'jTUBXdXu_cough.wav', 'JTUeJBHR_cough.wav', 'jtXSbXWE_cough.wav', 'jUEobHYD_cough.wav', 'jvjYUEYj_cough.wav', 'jvttZDgZ_cough.wav', 'jweocGae_cough.wav', 'jWgoHXYk_cough.wav', 'JwSduhor_cough.wav', 'JxdGZAry_cough.wav', 'jXvPRlnb_cough.wav', 'JxWZiOvy_cough.wav', 'JyLxCzLr_cough.wav', 'JyTMfZNU_cough.wav', 'jznlHazn_cough.wav', 'JZuzMMjI_cough.wav', 'KAGLTIox_cough.wav', 'KbsGnonJ_cough.wav', 'KbukmjaA_cough.wav', 'KCAMoeHw_cough.wav', 'KCpnUjRm_cough.wav', 'kcqWrFBL_cough.wav', 'KddRVaCU_cough.wav', 'KeBBzHvh_cough.wav', 'KeRNdWLt_cough.wav', 'kFfGRyPL_cough.wav', 'kFKwtSWx_cough.wav', 'KGcMvHns_cough.wav', 'kgOmxxfI_cough.wav', 'kGtRcnyU_cough.wav', 'KGVpjjuk_cough.wav', 'kidcGlKj_cough.wav', 'kkjpltkz_cough.wav', 'KkTRlVgG_cough.wav', 'KLBgciQg_cough.wav', 'kLNbeQnh_cough.wav', 'KmcMWuDM_cough.wav', 'kmkGnjZA_cough.wav', 'KmZrVdnp_cough.wav', 'KnlFWpeO_cough.wav', 'kocceeYR_cough.wav', 'KoCKwgxA_cough.wav', 'kpOJzbIA_cough.wav', 'KQspNwPa_cough.wav', 'KRxXhBQI_cough.wav', 'ktPSblkR_cough.wav', 'kTSzIyma_cough.wav', 'kTZnYKXR_cough.wav', 'kUwDlNCt_cough.wav', 'KvAKCFzt_cough.wav', 'KwKZeAqa_cough.wav', 'KxKCeupX_cough.wav', 'kxNCnNJl_cough.wav', 'KXrafDER_cough.wav', 'KXRNyqiT_cough.wav', 'kyiLYiOm_cough.wav', 'KYvPeIkX_cough.wav', 'kyWvvnfL_cough.wav', 'kyzFLOBc_cough.wav', 'kzVXgtAG_cough.wav', 'kzxREPlJ_cough.wav', 'laDhjRJB_cough.wav', 'LBoAWuox_cough.wav', 'LbTkLdUI_cough.wav', 'lCjEVZiU_cough.wav', 'ldBxqIQk_cough.wav', 'LdNsqVqG_cough.wav', 'lDxHWdkj_cough.wav', 'lekniQIj_cough.wav', 'leUyQCoq_cough.wav', 'LFqjhpiv_cough.wav', 'lhFOtZUI_cough.wav', 'lHIoOfIr_cough.wav', 'LjYGsZud_cough.wav', 'lJYycaIu_cough.wav', 'lkMDGFaS_cough.wav', 'LknllKPU_cough.wav', 'LLjQHdPC_cough.wav', 'LlTvIFHQ_cough.wav', 'lMwgVKgF_cough.wav', 'LNBPXGdV_cough.wav', 'LoGAhwKi_cough.wav', 'lOrVCtxS_cough.wav', 'lpymbSjD_cough.wav', 'LQueNhYA_cough.wav', 'lsbWEfIN_cough.wav', 'Lscnbkqd_cough.wav', 'lSEfFrIr_cough.wav', 'LsfARYiq_cough.wav', 'Lswysmsi_cough.wav', 'LubQiFjg_cough.wav', 'lUjLqgAd_cough.wav', 'lUrURvcm_cough.wav', 'lvavZpUK_cough.wav', 'lvFgEilL_cough.wav', 'lvWbMtlK_cough.wav', 'lWhyNaDO_cough.wav', 'lWjDUJMI_cough.wav', 'lWkZVgZI_cough.wav', 'LwpVsiNq_cough.wav', 'LyIhzhUh_cough.wav', 'lYQDENQb_cough.wav', 'LzmEYjeH_cough.wav', 'maleYWcG_cough.wav', 'mAMmKvqp_cough.wav', 'mBChVCnH_cough.wav', 'mbJYGlAF_cough.wav', 'mDplmCcx_cough.wav', 'mDrDusnO_cough.wav', 'meIllbML_cough.wav', 'mETCYHDA_cough.wav', 'MfBttSrb_cough.wav', 'MfuTVuKW_cough.wav', 'mgmhQauP_cough.wav', 'mHDQzFsZ_cough.wav', 'MKzONZrR_cough.wav', 'MLlkeGgp_cough.wav', 'MLvYlCpK_cough.wav', 'MMtRTauc_cough.wav', 'MoLuSdkY_cough.wav', 'mOzvQRTA_cough.wav', 'mPgwtdJV_cough.wav', 'mPIfZEhw_cough.wav', 'MqRRhRFE_cough.wav', 'mqVhJXMs_cough.wav', 'mqXtuoLB_cough.wav', 'mQzocegN_cough.wav', 'mrUcOgcw_cough.wav', 'mrZNPPIH_cough.wav', 'mSFOIMxc_cough.wav', 'mShjHLvX_cough.wav', 'msKnOSwn_cough.wav', 'mtqTBNUS_cough.wav', 'mTRBGvdG_cough.wav', 'MTzJcJSX_cough.wav', 'MuLxfalP_cough.wav', 'mvMGhVbz_cough.wav', 'MvxTTvDU_cough.wav', 'mWmlOTiX_cough.wav', 'MwNJutHj_cough.wav', 'mwPZJfvT_cough.wav', 'mXpeNHJS_cough.wav', 'mXqJvXcc_cough.wav', 'MxvQQhwo_cough.wav', 'mypfXIGq_cough.wav', 'MYuPhXWM_cough.wav', 'mzWQADgN_cough.wav', 'NakqRIUN_cough.wav', 'NBKvlVNm_cough.wav', 'nCgpxhdd_cough.wav', 'NcOeEncY_cough.wav', 'ndOvKupm_cough.wav', 'ndxxLYfU_cough.wav', 'nEfJJWMP_cough.wav', 'nEVdVhCz_cough.wav', 'NFoBrBba_cough.wav', 'NFzmoipU_cough.wav', 'nGEuYFMI_cough.wav', 'NGmHUexF_cough.wav', 'nGnBoalw_cough.wav', 'NHTbiCJm_cough.wav', 'nkaTqtDo_cough.wav', 'nKfYuzRZ_cough.wav', 'nknrMvAE_cough.wav', 'NKuDTrCY_cough.wav', 'nKxmiose_cough.wav', 'NLPtyRSo_cough.wav', 'NlTGsODF_cough.wav', 'nmOzeIgf_cough.wav', 'NmZYPRDf_cough.wav', 'NNFozsmh_cough.wav', 'NNSnjNHf_cough.wav', 'NOBwJdyS_cough.wav', 'nOQuckqH_cough.wav', 'nPZwRkMw_cough.wav', 'NqEojtQJ_cough.wav', 'nQEQglbO_cough.wav', 'NQMtUWRt_cough.wav', 'nqTirddu_cough.wav', 'NrPsVxXH_cough.wav', 'NRqOgeKQ_cough.wav', 'NRYtakwL_cough.wav', 'nsPDFQcq_cough.wav', 'NsyHrOQA_cough.wav', 'ntrGwxuI_cough.wav', 'nUvUyigz_cough.wav', 'NVIPmLVN_cough.wav', 'nVMrJLmO_cough.wav', 'NVYTYDeD_cough.wav', 'NXRVkVmX_cough.wav', 'NxwfkoAJ_cough.wav', 'nzeuTdaX_cough.wav', 'NzujCglH_cough.wav', 'OABrejoE_cough.wav', 'OaOdjWab_cough.wav', 'oazWXRYK_cough.wav', 'OCbXvrKe_cough.wav', 'ochZVMLR_cough.wav', 'OCmgkoYw_cough.wav', 'oeidStXD_cough.wav', 'OeXRhYqc_cough.wav', 'ofCXbFoM_cough.wav', 'oFgwOqdM_cough.wav', 'OFyDnzta_cough.wav', 'OFZViZpu_cough.wav', 'ogeMlUxa_cough.wav', 'OhfmyXMY_cough.wav', 'ohuhxiot_cough.wav', 'OKdyPiWm_cough.wav', 'OMVaydBx_cough.wav', 'onvSojPF_cough.wav', 'oolRUiZT_cough.wav', 'ooseuVjJ_cough.wav', 'OPLJUEpn_cough.wav', 'ORpLBtjw_cough.wav', 'oRtPjsui_cough.wav', 'osCanEgJ_cough.wav', 'otgsKYkm_cough.wav', 'oULoNlMC_cough.wav', 'OuyzEsTC_cough.wav', 'ouzERrEi_cough.wav', 'OvGjiqAl_cough.wav', 'OWqgakTz_cough.wav', 'oWSDymuH_cough.wav', 'oYnPqXON_cough.wav', 'OYpxSaaB_cough.wav', 'OyzUNmKm_cough.wav', 'OzWakNIZ_cough.wav', 'PamsVulB_cough.wav', 'PAYMiMAZ_cough.wav', 'PBNlztDV_cough.wav', 'pbSnVCuH_cough.wav', 'pCdOvfWM_cough.wav', 'PcfUHqEv_cough.wav', 'pChXTBPr_cough.wav', 'PdeOjqbz_cough.wav', 'PdzJwcjy_cough.wav', 'PeXCNmdF_cough.wav', 'pFerVDir_cough.wav', 'pGAxJEUe_cough.wav', 'pgVVbsrC_cough.wav', 'PhibvIcw_cough.wav', 'PIxBHbJf_cough.wav', 'PiZQHHNd_cough.wav', 'pJBUUJXs_cough.wav', 'PkeDRTVZ_cough.wav', 'pkrAiMuj_cough.wav', 'plgOIocq_cough.wav', 'PmsGOWem_cough.wav', 'PmUdBqSh_cough.wav', 'PoIkZZjl_cough.wav', 'PoQFhmyT_cough.wav', 'pPPvIySd_cough.wav', 'PpXVouZC_cough.wav', 'PQFgfbUS_cough.wav', 'psieoQsP_cough.wav', 'PSXcSFbQ_cough.wav', 'pToRBbHE_cough.wav', 'PUdXOJsL_cough.wav', 'pUFXZxJk_cough.wav', 'pUOOLpwJ_cough.wav', 'PuXwSMZJ_cough.wav', 'pvXcOLHx_cough.wav', 'pWYRkIiQ_cough.wav', 'PyvcwJZl_cough.wav', 'pZqWEQBC_cough.wav', 'PZrjLcKB_cough.wav', 'PZtvokKC_cough.wav', 'PzyznhPR_cough.wav', 'qadkdXTT_cough.wav', 'qahEVrvk_cough.wav', 'QasRCdfc_cough.wav', 'QBngVcca_cough.wav', 'qbqfFThn_cough.wav', 'qbuHEeEt_cough.wav', 'QBzLliLf_cough.wav', 'QCTKKXJm_cough.wav', 'QCznUSIH_cough.wav', 'qehjsxpL_cough.wav', 'QGVIHxIA_cough.wav', 'qjinIloU_cough.wav', 'QJJYOAVa_cough.wav', 'qjkiXkAz_cough.wav', 'qKaXzXyW_cough.wav', 'qLbyXKSM_cough.wav', 'QLebfxPS_cough.wav', 'QLHWBMFZ_cough.wav', 'qoQPVniF_cough.wav', 'qoSZjdYN_cough.wav', 'QrHxSlvt_cough.wav', 'qRLRbGHB_cough.wav', 'qruXMvsp_cough.wav', 'qTEaxEEk_cough.wav', 'qVTYwYrh_cough.wav', 'qWzyyvAL_cough.wav', 'qXPwJjoA_cough.wav', 'qYgNnBmk_cough.wav', 'rAKaNjve_cough.wav', 'rAvFScck_cough.wav', 'RbCJnsUq_cough.wav', 'rbpkZVJL_cough.wav', 'rbwkuyrO_cough.wav', 'RCPZQZrE_cough.wav', 'rdMBdqud_cough.wav', 'rDpIxbww_cough.wav', 'rEghfEbB_cough.wav', 'RfcAHZwg_cough.wav', 'RFHIFPDY_cough.wav', 'rfondowf_cough.wav', 'RFRlAQky_cough.wav', 'RgdhNwBs_cough.wav', 'rgxwstlM_cough.wav', 'rHeawXbl_cough.wav', 'RHRmbDpO_cough.wav', 'RhTJImXA_cough.wav', 'rKMOpWqv_cough.wav', 'rLaKXMvv_cough.wav', 'rLHrNros_cough.wav', 'rMHNxjHb_cough.wav', 'RmPHvzGd_cough.wav', 'RmrrgzEI_cough.wav', 'rnmYuvdR_cough.wav', 'roAncLZP_cough.wav', 'rOsMfktA_cough.wav', 'rosWzrOe_cough.wav', 'roVYierz_cough.wav', 'RpcgTYyk_cough.wav', 'RphjNRsK_cough.wav', 'RQIKNnTY_cough.wav', 'rRSGJTZc_cough.wav', 'rSscZOFs_cough.wav', 'RsyzKcmq_cough.wav', 'RTFbqhgX_cough.wav', 'RThtVwyR_cough.wav', 'rTIRmBhu_cough.wav', 'rTpxQyjX_cough.wav', 'rTrqJZzR_cough.wav', 'RUaouMCL_cough.wav', 'rVmYyzWZ_cough.wav', 'RweAHXfK_cough.wav', 'rwMZXrht_cough.wav', 'RZhbrBun_cough.wav', 'SAnbDyHE_cough.wav', 'SaNNZPHB_cough.wav', 'saNyQYhi_cough.wav', 'SAvLCzYG_cough.wav', 'sBkJLMFn_cough.wav', 'sDkihJQS_cough.wav', 'sDNTZiiZ_cough.wav', 'sDQVWoaP_cough.wav', 'SeAEtLhK_cough.wav', 'SFAqKfjU_cough.wav', 'SFjbFURw_cough.wav', 'shojXXtm_cough.wav', 'shWMdtQm_cough.wav', 'SidRjOkb_cough.wav', 'SivBEgrv_cough.wav', 'sJAyaUac_cough.wav', 'sjimWMrK_cough.wav', 'skAlHpUQ_cough.wav', 'skDCBwoR_cough.wav', 'SKsCXofo_cough.wav', 'SMHbxmiM_cough.wav', 'sOaflYcw_cough.wav', 'soeWJEmo_cough.wav', 'sOhgJKsI_cough.wav', 'soimteOm_cough.wav', 'sPsztonA_cough.wav', 'sqqjhAPh_cough.wav', 'sqRJrwOB_cough.wav', 'SsgSBENu_cough.wav', 'ssngJIpR_cough.wav', 'SsrgLVgo_cough.wav', 'StouYORD_cough.wav', 'STzTTIgk_cough.wav', 'SUnVjHSz_cough.wav', 'SVxRuTok_cough.wav', 'SXjgdTMw_cough.wav', 'sXtYBWoe_cough.wav', 'SyvAHCPL_cough.wav', 'syyAoPut_cough.wav', 'SZiRVJem_cough.wav', 'TAhoVoLl_cough.wav', 'TAniJNub_cough.wav', 'TdanpCuy_cough.wav', 'tDZAuKsn_cough.wav', 'tebbafUY_cough.wav', 'TeDXBfwI_cough.wav', 'teisdiaq_cough.wav', 'tejPPvGf_cough.wav', 'tFkthLTg_cough.wav', 'tfkukFze_cough.wav', 'TGukCwwl_cough.wav', 'tGuQLcaV_cough.wav', 'ThBvDEfS_cough.wav', 'THjOqcKy_cough.wav', 'TIbDIsHX_cough.wav', 'tIyZgKIK_cough.wav', 'tKFxuirL_cough.wav', 'tLGupSiw_cough.wav', 'TlYUYXmp_cough.wav', 'tMuFjLYA_cough.wav', 'TmVlmvHm_cough.wav', 'tmWEAwSU_cough.wav', 'TmXUmwhl_cough.wav', 'TOafVQgS_cough.wav', 'ToXUDDNW_cough.wav', 'tqdBioPS_cough.wav', 'TqldGIcZ_cough.wav', 'TRAbbrxs_cough.wav', 'tReVHGVm_cough.wav', 'TRunXnCF_cough.wav', 'tTHlQvKu_cough.wav', 'tVlilKyf_cough.wav', 'TVyxtVgp_cough.wav', 'tWEWeFjo_cough.wav', 'tWjZnGra_cough.wav', 'TwleJYqi_cough.wav', 'tXInhpmd_cough.wav', 'TXXNGCoU_cough.wav', 'tYCJGTVA_cough.wav', 'tyEybnSz_cough.wav', 'tzUxXpeV_cough.wav', 'TZZDoJEu_cough.wav', 'UACLQauP_cough.wav', 'UasvLcWz_cough.wav', 'ubHVuGEO_cough.wav', 'UBspkYZX_cough.wav', 'UCQoOjAM_cough.wav', 'udeOEdid_cough.wav', 'uDfpCWpV_cough.wav', 'uewkcQlh_cough.wav', 'ufrpTehY_cough.wav', 'UfWkikkq_cough.wav', 'UfXgCznn_cough.wav', 'ugzKaJKI_cough.wav', 'uhDIvVmM_cough.wav', 'uHSbqZKI_cough.wav', 'uImNPTOa_cough.wav', 'UIOYbWqo_cough.wav', 'uIWcsxfF_cough.wav', 'UIwIFMXf_cough.wav', 'UJcntscm_cough.wav', 'ulGmiSfu_cough.wav', 'UlWYzwcX_cough.wav', 'UlzMOAPB_cough.wav', 'UMaBfSOO_cough.wav', 'UNFMyWyq_cough.wav', 'UootHjgL_cough.wav', 'uozCPZSz_cough.wav', 'UPdzXZBW_cough.wav', 'UpikDMDW_cough.wav', 'upkLoNpq_cough.wav', 'uQiVsZvA_cough.wav', 'usSHBQST_cough.wav', 'UsWoAysK_cough.wav', 'uttKLPRN_cough.wav', 'UuHfTYlk_cough.wav', 'UVQmKptk_cough.wav', 'uWFfZGfb_cough.wav', 'uWhfXxgr_cough.wav', 'UZbVkDNX_cough.wav', 'UZLjUEcv_cough.wav', 'uZTktUcw_cough.wav', 'vanjXlUi_cough.wav', 'VaXVDlOx_cough.wav', 'VbkLikGS_cough.wav', 'vcawTlXB_cough.wav', 'vCGjwhYK_cough.wav', 'VDbOivBF_cough.wav', 'vdcUBxey_cough.wav', 'VdPzIITA_cough.wav', 'vEAcLyVF_cough.wav', 'vetjISOL_cough.wav', 'vEZdrgum_cough.wav', 'vgwWgKwl_cough.wav', 'vGZBUQLf_cough.wav', 'vIJwhKJT_cough.wav', 'VjMriKLm_cough.wav', 'VJvyPHIL_cough.wav', 'vkaByJOi_cough.wav', 'vLKzBOQo_cough.wav', 'vLrFvNCg_cough.wav', 'VNAsEvMe_cough.wav', 'VnHTyoXV_cough.wav', 'vNXnjiHM_cough.wav', 'VOeJvAPW_cough.wav', 'vOgadWhN_cough.wav', 'vprZSyEW_cough.wav', 'VpXCPvoL_cough.wav', 'vQBGHqbT_cough.wav', 'VscHkDYT_cough.wav', 'vSITySmg_cough.wav', 'VUBfWWKm_cough.wav', 'vuEqyKkh_cough.wav', 'vUzpQzVF_cough.wav', 'VVBXeZuW_cough.wav', 'VVHtRSwg_cough.wav', 'VVwEoApp_cough.wav', 'vvwQVPBk_cough.wav', 'VXdGdZnQ_cough.wav', 'VYUfZYIU_cough.wav', 'vZPHdGNl_cough.wav', 'WAAWPGXe_cough.wav', 'wArEymbf_cough.wav', 'wbSCGCHw_cough.wav', 'WBxMiWkn_cough.wav', 'wcgNfocs_cough.wav', 'WCmpoNAm_cough.wav', 'wdoDMWkf_cough.wav', 'WFUAvflC_cough.wav', 'wgFAQRLl_cough.wav', 'WgHrhDlc_cough.wav', 'WGUFMeST_cough.wav', 'wGyMoDjg_cough.wav', 'WHCWoaKf_cough.wav', 'WHFUlLyr_cough.wav', 'WhThxgKo_cough.wav', 'WiBywXuA_cough.wav', 'wimhedOS_cough.wav', 'WIwdydRX_cough.wav', 'WJAIhgpc_cough.wav', 'WjEDlcON_cough.wav', 'wJLIGXem_cough.wav', 'WkAWZghi_cough.wav', 'WkKugEPM_cough.wav', 'wkwESJzt_cough.wav', 'WlaSJOzx_cough.wav', 'wMZXvwtE_cough.wav', 'wNzAELtg_cough.wav', 'wpOrWhJr_cough.wav', 'WqUEqdxF_cough.wav', 'wrbGKPBC_cough.wav', 'wRnPZLxQ_cough.wav', 'WumlYgbv_cough.wav', 'wUtkeUtn_cough.wav', 'WwNisFBz_cough.wav', 'WxnfnVMa_cough.wav', 'WXZAjTKd_cough.wav', 'wYIdcexQ_cough.wav', 'wYWzZdKl_cough.wav', 'XEdLtCvr_cough.wav', 'XEpzuuNz_cough.wav', 'XfEgEdxn_cough.wav', 'XggpMYKq_cough.wav', 'xgOhYdlg_cough.wav', 'xGSDDilq_cough.wav', 'xGWzpAhX_cough.wav', 'XiWDFUJL_cough.wav', 'XjpgsSZj_cough.wav', 'xkOStJZM_cough.wav', 'XKpWkimb_cough.wav', 'xLpPxjFE_cough.wav', 'XmBfxcPF_cough.wav', 'xNPsTujs_cough.wav', 'xpMFZnia_cough.wav', 'xqfqYGFU_cough.wav', 'xqjxQCUb_cough.wav', 'XQNWRRrF_cough.wav', 'XrINdiit_cough.wav', 'xRWYazyD_cough.wav', 'xskLZTsY_cough.wav', 'xtjHkUOq_cough.wav', 'XUdICofA_cough.wav', 'XudRtBRI_cough.wav', 'xulMGuBr_cough.wav', 'xVJOjsrR_cough.wav', 'XVVStGcE_cough.wav', 'xwHBDlgt_cough.wav', 'xxeNPDIF_cough.wav', 'xXIqgYEx_cough.wav', 'xXutlAGK_cough.wav', 'xxYeZqAm_cough.wav', 'XYNZmBiv_cough.wav', 'XYUUCWBW_cough.wav', 'xzagsZvL_cough.wav', 'xzAxMril_cough.wav', 'xZGAebEm_cough.wav', 'xZnuKfwh_cough.wav', 'yaqVXrnA_cough.wav', 'ybiRFLzS_cough.wav', 'YDXJAnyG_cough.wav', 'YdycVava_cough.wav', 'YeaERVRX_cough.wav', 'YEyoQYTJ_cough.wav', 'YFnoVVcO_cough.wav', 'yGuFMSpP_cough.wav', 'YHGOrYlM_cough.wav', 'YHyRBsBn_cough.wav', 'yITiCNay_cough.wav', 'yjGzYLqW_cough.wav', 'yjmmqYTr_cough.wav', 'YjrUbGnS_cough.wav', 'yJXSOXJH_cough.wav', 'YLKbuGZG_cough.wav', 'yLtWxHhQ_cough.wav', 'ylVxnnFc_cough.wav', 'YLWmQohA_cough.wav', 'YmrmdBlE_cough.wav', 'YNaGsZRi_cough.wav', 'ynPlcFjN_cough.wav', 'YoOXixYz_cough.wav', 'ypitsIIl_cough.wav', 'ypnHfeQs_cough.wav', 'YpSbLQxB_cough.wav', 'YRCkzhHK_cough.wav', 'ySgHfeXm_cough.wav', 'ySnfmLLI_cough.wav', 'YsVTYCAs_cough.wav', 'YThfTbHx_cough.wav', 'yUWMZYoD_cough.wav', 'yvztLWeW_cough.wav', 'YvzZzwKw_cough.wav', 'YWGOqzKK_cough.wav', 'yxnNPufM_cough.wav', 'YxoregOW_cough.wav', 'yzazWHnN_cough.wav', 'ZAhvmZnc_cough.wav', 'ZAwzLpcG_cough.wav', 'zBoRaAiZ_cough.wav', 'zBSZRIYC_cough.wav', 'ZcoERXOH_cough.wav', 'ZfdWjmoF_cough.wav', 'ZfHSpzFT_cough.wav', 'zgBcKRwd_cough.wav', 'zGIGmClH_cough.wav', 'zhsLboWa_cough.wav', 'zjjHSLyO_cough.wav', 'ZJQDABrO_cough.wav', 'ZjqYxYUi_cough.wav', 'ZKBYCWea_cough.wav', 'zlDjJMFA_cough.wav', 'ZLvMOlVR_cough.wav', 'ZmHnqNhA_cough.wav', 'zmpAXcvU_cough.wav', 'zmRJrXNj_cough.wav', 'ZMuNnrMV_cough.wav', 'zOEdHumf_cough.wav', 'ZOEknDgx_cough.wav', 'ZOFDyaRi_cough.wav', 'ZopvevoE_cough.wav', 'ZqNbNdFU_cough.wav', 'ZSBQzPiV_cough.wav', 'zsydipyf_cough.wav', 'ztfUsnoA_cough.wav', 'ztVpRVXe_cough.wav', 'zuEzdVVo_cough.wav', 'zUwStFbv_cough.wav', 'zVjIJktS_cough.wav', 'ZvjQhNJh_cough.wav', 'ZVKSsFiW_cough.wav', 'ZVMEcAgp_cough.wav', 'ZVNDncrh_cough.wav', 'ZvrepenP_cough.wav', 'ZwATsPNv_cough.wav', 'zwWWpDNo_cough.wav', 'zwYEGgem_cough.wav', 'ZxAapsyK_cough.wav', 'ZXWzTfVB_cough.wav', 'ZYDLwXWo_cough.wav', 'zYWXHlrD_cough.wav', 'zZHGfNth_cough.wav', 'ZZilsgIf_cough.wav', 'zzOYyYyA_cough.wav', 'zzTJVzBg_cough.wav']\n"
     ]
    }
   ],
   "source": [
    "import pandas as pd\n",
    "import os\n",
    "import shutil\n",
    "\n",
    "\n",
    "def create_dir_not_exist(path):\n",
    "    if not os.path.exists(path):\n",
    "        os.mkdir(path)\n",
    "\n",
    "\n",
    "def extracting_files(list, path):\n",
    "    for i in range(len(list)):\n",
    "        files = os.listdir(dir_files)\n",
    "        for file in files:\n",
    "            if file[:file.rfind(\".\")] == list[i]:\n",
    "                old_name = os.path.join(dir_files, file)\n",
    "                new_name = os.path.join(path, file)\n",
    "                shutil.copyfile(old_name, new_name)\n",
    "    print(\"{}\")\n",
    "\n",
    "\n",
    "dir = os.path.abspath(\"E:\\\\DICOVA_Track1\")\n",
    "dir_files = os.path.join(dir, \"Audio\")\n",
    "csv_path = os.path.join(dir, 'metadata.csv')\n",
    "dir_negative = os.path.join(dir, \"negative\")\n",
    "dir_positive = os.path.join(dir, \"positive\")\n",
    "\n",
    "with open(csv_path, 'r', encoding='UTF-8') as f:\n",
    "    csv = pd.read_csv(f)\n",
    "\n",
    "r_max = csv.shape[0]\n",
    "c_max = csv.shape[1]\n",
    "\n",
    "file_name = csv['File_name'].tolist()  # 提取File_name\n",
    "\n",
    "positive = []\n",
    "negative = []\n",
    "state = csv['Covid_status'].tolist()  # 提取志愿者的新冠状况Covid_status\n",
    "\n",
    "# 按negative和positive分类提取id\n",
    "for r in range(r_max):\n",
    "    pd = state[r]\n",
    "    if pd[:1] == 'p':\n",
    "        positive.append(file_name[r])\n",
    "    if pd[:1] == 'n':\n",
    "        negative.append(file_name[r])\n",
    "\n",
    "\"\"\"\n",
    "提取\n",
    "\"\"\"\n",
    "\n",
    "create_dir_not_exist(dir_negative)\n",
    "create_dir_not_exist(dir_positive)\n",
    "\n",
    "extracting_files(negative, dir_negative)\n",
    "extracting_files(positive, dir_positive)\n"
   ],
   "metadata": {
    "collapsed": false,
    "pycharm": {
     "name": "#%%\n"
    }
   }
  },
  {
   "cell_type": "code",
   "execution_count": 14,
   "outputs": [
    {
     "name": "stdout",
     "output_type": "stream",
     "text": [
      "negative\n"
     ]
    }
   ],
   "source": [
    "def get_variable_name(var, locals = locals()):\n",
    "    for k, v in locals.items():\n",
    "        if v is var:\n",
    "            return k\n",
    "\n",
    "negative = [1,2,3,4,5]\n",
    "print(get_variable_name(negative))"
   ],
   "metadata": {
    "collapsed": false,
    "pycharm": {
     "name": "#%%\n"
    }
   }
  },
  {
   "cell_type": "code",
   "execution_count": 3,
   "outputs": [
    {
     "name": "stdout",
     "output_type": "stream",
     "text": [
      "['E:\\\\DICOVA_Track1\\\\Track1-classified\\\\positive\\\\AHGDPacO_cough.wav', 'E:\\\\DICOVA_Track1\\\\Track1-classified\\\\positive\\\\AHvqxmTD_cough.wav', 'E:\\\\DICOVA_Track1\\\\Track1-classified\\\\positive\\\\aOQmLItZ_cough.wav', 'E:\\\\DICOVA_Track1\\\\Track1-classified\\\\positive\\\\aUKvSleS_cough.wav', 'E:\\\\DICOVA_Track1\\\\Track1-classified\\\\positive\\\\AvXwUddK_cough.wav', 'E:\\\\DICOVA_Track1\\\\Track1-classified\\\\positive\\\\bgOaOgxU_cough.wav', 'E:\\\\DICOVA_Track1\\\\Track1-classified\\\\positive\\\\cBySOpIM_cough.wav', 'E:\\\\DICOVA_Track1\\\\Track1-classified\\\\positive\\\\CcOAENdR_cough.wav', 'E:\\\\DICOVA_Track1\\\\Track1-classified\\\\positive\\\\chTNMokP_cough.wav', 'E:\\\\DICOVA_Track1\\\\Track1-classified\\\\positive\\\\coMUdcRR_cough.wav', 'E:\\\\DICOVA_Track1\\\\Track1-classified\\\\positive\\\\DDdWaoiR_cough.wav', 'E:\\\\DICOVA_Track1\\\\Track1-classified\\\\positive\\\\DdvWRFdS_cough.wav', 'E:\\\\DICOVA_Track1\\\\Track1-classified\\\\positive\\\\dpITIaDY_cough.wav', 'E:\\\\DICOVA_Track1\\\\Track1-classified\\\\positive\\\\dyycrqJU_cough.wav', 'E:\\\\DICOVA_Track1\\\\Track1-classified\\\\positive\\\\EFZUPSuS_cough.wav', 'E:\\\\DICOVA_Track1\\\\Track1-classified\\\\positive\\\\ePpysCaD_cough.wav', 'E:\\\\DICOVA_Track1\\\\Track1-classified\\\\positive\\\\FcWxqeAl_cough.wav', 'E:\\\\DICOVA_Track1\\\\Track1-classified\\\\positive\\\\FiMMzrzL_cough.wav', 'E:\\\\DICOVA_Track1\\\\Track1-classified\\\\positive\\\\GHhjmiuJ_cough.wav', 'E:\\\\DICOVA_Track1\\\\Track1-classified\\\\positive\\\\gMcIkIFj_cough.wav', 'E:\\\\DICOVA_Track1\\\\Track1-classified\\\\positive\\\\HBqmFqKH_cough.wav', 'E:\\\\DICOVA_Track1\\\\Track1-classified\\\\positive\\\\hnYxORIJ_cough.wav', 'E:\\\\DICOVA_Track1\\\\Track1-classified\\\\positive\\\\hPmlgEcN_cough.wav', 'E:\\\\DICOVA_Track1\\\\Track1-classified\\\\positive\\\\IFCuHaww_cough.wav', 'E:\\\\DICOVA_Track1\\\\Track1-classified\\\\positive\\\\IkmWSZnM_cough.wav', 'E:\\\\DICOVA_Track1\\\\Track1-classified\\\\positive\\\\JTUeJBHR_cough.wav', 'E:\\\\DICOVA_Track1\\\\Track1-classified\\\\positive\\\\kcqWrFBL_cough.wav', 'E:\\\\DICOVA_Track1\\\\Track1-classified\\\\positive\\\\KddRVaCU_cough.wav', 'E:\\\\DICOVA_Track1\\\\Track1-classified\\\\positive\\\\ktPSblkR_cough.wav', 'E:\\\\DICOVA_Track1\\\\Track1-classified\\\\positive\\\\lCjEVZiU_cough.wav', 'E:\\\\DICOVA_Track1\\\\Track1-classified\\\\positive\\\\LwpVsiNq_cough.wav', 'E:\\\\DICOVA_Track1\\\\Track1-classified\\\\positive\\\\MfuTVuKW_cough.wav', 'E:\\\\DICOVA_Track1\\\\Track1-classified\\\\positive\\\\MKzONZrR_cough.wav', 'E:\\\\DICOVA_Track1\\\\Track1-classified\\\\positive\\\\mOzvQRTA_cough.wav', 'E:\\\\DICOVA_Track1\\\\Track1-classified\\\\positive\\\\MwNJutHj_cough.wav', 'E:\\\\DICOVA_Track1\\\\Track1-classified\\\\positive\\\\nGnBoalw_cough.wav', 'E:\\\\DICOVA_Track1\\\\Track1-classified\\\\positive\\\\nPZwRkMw_cough.wav', 'E:\\\\DICOVA_Track1\\\\Track1-classified\\\\positive\\\\ntrGwxuI_cough.wav', 'E:\\\\DICOVA_Track1\\\\Track1-classified\\\\positive\\\\nzeuTdaX_cough.wav', 'E:\\\\DICOVA_Track1\\\\Track1-classified\\\\positive\\\\oYnPqXON_cough.wav', 'E:\\\\DICOVA_Track1\\\\Track1-classified\\\\positive\\\\OYpxSaaB_cough.wav', 'E:\\\\DICOVA_Track1\\\\Track1-classified\\\\positive\\\\pFerVDir_cough.wav', 'E:\\\\DICOVA_Track1\\\\Track1-classified\\\\positive\\\\qKaXzXyW_cough.wav', 'E:\\\\DICOVA_Track1\\\\Track1-classified\\\\positive\\\\RFRlAQky_cough.wav', 'E:\\\\DICOVA_Track1\\\\Track1-classified\\\\positive\\\\rosWzrOe_cough.wav', 'E:\\\\DICOVA_Track1\\\\Track1-classified\\\\positive\\\\RThtVwyR_cough.wav', 'E:\\\\DICOVA_Track1\\\\Track1-classified\\\\positive\\\\skDCBwoR_cough.wav', 'E:\\\\DICOVA_Track1\\\\Track1-classified\\\\positive\\\\tfkukFze_cough.wav', 'E:\\\\DICOVA_Track1\\\\Track1-classified\\\\positive\\\\tGuQLcaV_cough.wav', 'E:\\\\DICOVA_Track1\\\\Track1-classified\\\\positive\\\\THjOqcKy_cough.wav', 'E:\\\\DICOVA_Track1\\\\Track1-classified\\\\positive\\\\tLGupSiw_cough.wav', 'E:\\\\DICOVA_Track1\\\\Track1-classified\\\\positive\\\\TmXUmwhl_cough.wav', 'E:\\\\DICOVA_Track1\\\\Track1-classified\\\\positive\\\\tqdBioPS_cough.wav', 'E:\\\\DICOVA_Track1\\\\Track1-classified\\\\positive\\\\TRAbbrxs_cough.wav', 'E:\\\\DICOVA_Track1\\\\Track1-classified\\\\positive\\\\tWjZnGra_cough.wav', 'E:\\\\DICOVA_Track1\\\\Track1-classified\\\\positive\\\\UACLQauP_cough.wav', 'E:\\\\DICOVA_Track1\\\\Track1-classified\\\\positive\\\\ubHVuGEO_cough.wav', 'E:\\\\DICOVA_Track1\\\\Track1-classified\\\\positive\\\\uewkcQlh_cough.wav', 'E:\\\\DICOVA_Track1\\\\Track1-classified\\\\positive\\\\UlWYzwcX_cough.wav', 'E:\\\\DICOVA_Track1\\\\Track1-classified\\\\positive\\\\UPdzXZBW_cough.wav', 'E:\\\\DICOVA_Track1\\\\Track1-classified\\\\positive\\\\usSHBQST_cough.wav', 'E:\\\\DICOVA_Track1\\\\Track1-classified\\\\positive\\\\uWhfXxgr_cough.wav', 'E:\\\\DICOVA_Track1\\\\Track1-classified\\\\positive\\\\vGZBUQLf_cough.wav', 'E:\\\\DICOVA_Track1\\\\Track1-classified\\\\positive\\\\VpXCPvoL_cough.wav', 'E:\\\\DICOVA_Track1\\\\Track1-classified\\\\positive\\\\VVHtRSwg_cough.wav', 'E:\\\\DICOVA_Track1\\\\Track1-classified\\\\positive\\\\wrbGKPBC_cough.wav', 'E:\\\\DICOVA_Track1\\\\Track1-classified\\\\positive\\\\WxnfnVMa_cough.wav', 'E:\\\\DICOVA_Track1\\\\Track1-classified\\\\positive\\\\xLpPxjFE_cough.wav', 'E:\\\\DICOVA_Track1\\\\Track1-classified\\\\positive\\\\xpMFZnia_cough.wav', 'E:\\\\DICOVA_Track1\\\\Track1-classified\\\\positive\\\\XudRtBRI_cough.wav', 'E:\\\\DICOVA_Track1\\\\Track1-classified\\\\positive\\\\XYNZmBiv_cough.wav', 'E:\\\\DICOVA_Track1\\\\Track1-classified\\\\positive\\\\yITiCNay_cough.wav', 'E:\\\\DICOVA_Track1\\\\Track1-classified\\\\positive\\\\YpSbLQxB_cough.wav', 'E:\\\\DICOVA_Track1\\\\Track1-classified\\\\positive\\\\zuEzdVVo_cough.wav', 'E:\\\\DICOVA_Track1\\\\Track1-classified\\\\positive\\\\ZvrepenP_cough.wav']\n"
     ]
    }
   ],
   "source": [
    "import os\n",
    "dir_path = r\"E:\\DICOVA_Track1\\Track1-classified\\positive\"\n",
    "file_list = os.listdir(dir_path)\n",
    "file_path_list = []\n",
    "for file in file_list:\n",
    "    file_path = os.path.join(dir_path, file)\n",
    "    file_path_list.append(file_path)\n",
    "print(file_path_list)"
   ],
   "metadata": {
    "collapsed": false,
    "pycharm": {
     "name": "#%%\n"
    }
   }
  },
  {
   "cell_type": "code",
   "execution_count": 5,
   "outputs": [
    {
     "name": "stdout",
     "output_type": "stream",
     "text": [
      "E:\\DICOVA_Track1\\Track1-classified\\positive\\new\\mel\n",
      "E:\\DICOVA_Track1\\Track1-classified\\positive\\new\\mel\\usSHBQST_cough-1mel.jpg\n",
      "E:\\DICOVA_Track1\\Track1-classified\\positive\\new\\usSHBQST_cough-1.wav\\new\n"
     ]
    }
   ],
   "source": [
    "import os\n",
    "\n",
    "dir_path = r\"E:\\DICOVA_Track1\\Track1-classified\\positive\\new\\usSHBQST_cough-1.wav\"\n",
    "# print(dir_path[dir_path.rfind(\"\\\\\")+1 : -4])4\n",
    "print(dir_path[: dir_path.rfind(\"\\\\\")] + str('\\mel'))\n",
    "mel_folder = dir_path[: dir_path.rfind(\"\\\\\")] + str('\\mel')\n",
    "print(mel_folder + dir_path[dir_path.rfind(\"\\\\\") : dir_path.rfind(\".\")] + str('mel') + str('.jpg'))\n",
    "print(os.path.join(dir_path, 'new'))"
   ],
   "metadata": {
    "collapsed": false,
    "pycharm": {
     "name": "#%%\n"
    }
   }
  },
  {
   "cell_type": "code",
   "execution_count": 6,
   "outputs": [
    {
     "name": "stdout",
     "output_type": "stream",
     "text": [
      "好耶\n"
     ]
    }
   ],
   "source": [
    "with open(r\"output.txt\", \"w\") as file:\n",
    "    print(\"好耶\")"
   ],
   "metadata": {
    "collapsed": false,
    "pycharm": {
     "name": "#%%\n"
    }
   }
  }
 ],
 "metadata": {
  "kernelspec": {
   "display_name": "Python 3",
   "language": "python",
   "name": "python3"
  },
  "language_info": {
   "codemirror_mode": {
    "name": "ipython",
    "version": 2
   },
   "file_extension": ".py",
   "mimetype": "text/x-python",
   "name": "python",
   "nbconvert_exporter": "python",
   "pygments_lexer": "ipython2",
   "version": "2.7.6"
  }
 },
 "nbformat": 4,
 "nbformat_minor": 0
}